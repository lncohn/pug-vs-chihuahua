{
 "cells": [
  {
   "cell_type": "code",
   "execution_count": null,
   "metadata": {
    "collapsed": false
   },
   "outputs": [],
   "source": [
    "import os\n",
    "import pickle\n",
    "import numpy as np\n",
    "import matplotlib.pyplot as plt\n",
    "import seaborn as sns\n",
    "from skimage import io\n",
    "from sklearn.cross_validation import train_test_split\n",
    "\n",
    "from keras.models import Sequential, model_from_json\n",
    "from keras.layers.core import Dense, Dropout, Flatten\n",
    "from keras.layers.convolutional import Convolution2D, MaxPooling2D, ZeroPadding2D\n",
    "from keras.optimizers import SGD\n",
    "from keras.utils import np_utils"
   ]
  },
  {
   "cell_type": "code",
   "execution_count": null,
   "metadata": {
    "collapsed": true
   },
   "outputs": [],
   "source": [
    "%matplotlib inline"
   ]
  },
  {
   "cell_type": "code",
   "execution_count": null,
   "metadata": {
    "collapsed": false
   },
   "outputs": [],
   "source": [
    "PUG_IMG_DIR = \"../data/pugs_cropped\"\n",
    "CHI_IMG_DIR = \"../data/chihuahuas_cropped\"\n",
    "IMG_ROWS, IMG_COLS = 224, 224\n",
    "IMG_CHANNELS = 3"
   ]
  },
  {
   "cell_type": "code",
   "execution_count": null,
   "metadata": {
    "collapsed": true
   },
   "outputs": [],
   "source": [
    "n_pug_images = len(os.listdir(PUG_IMG_DIR))\n",
    "pug_images = np.empty((n_pug_images, IMG_CHANNELS, IMG_ROWS, IMG_COLS), dtype=\"uint8\")\n",
    "\n",
    "n_chi_images = len(os.listdir(CHI_IMG_DIR))\n",
    "chi_images = np.empty((n_chi_images, IMG_CHANNELS, IMG_ROWS, IMG_COLS), dtype=\"uint8\")"
   ]
  },
  {
   "cell_type": "code",
   "execution_count": null,
   "metadata": {
    "collapsed": true
   },
   "outputs": [],
   "source": [
    "for n, image in enumerate(os.listdir(PUG_IMG_DIR)):\n",
    "    pug_images[n] = io.imread(PUG_IMG_DIR+\"/\"+image).transpose()\n",
    "\n",
    "for n, image in enumerate(os.listdir(CHI_IMG_DIR)):\n",
    "    chi_images[n] = io.imread(CHI_IMG_DIR+\"/\"+image).transpose()"
   ]
  },
  {
   "cell_type": "code",
   "execution_count": null,
   "metadata": {
    "collapsed": false
   },
   "outputs": [],
   "source": [
    "print(pug_images.shape)\n",
    "print(chi_images.shape)"
   ]
  },
  {
   "cell_type": "code",
   "execution_count": null,
   "metadata": {
    "collapsed": true
   },
   "outputs": [],
   "source": [
    "pug_labels = np.ones(n_pug_images)\n",
    "chi_labels = np.zeros(n_chi_images)"
   ]
  },
  {
   "cell_type": "code",
   "execution_count": null,
   "metadata": {
    "collapsed": true
   },
   "outputs": [],
   "source": [
    "X = np.concatenate([pug_images, chi_images])\n",
    "y = np.concatenate([pug_labels, chi_labels])"
   ]
  },
  {
   "cell_type": "code",
   "execution_count": null,
   "metadata": {
    "collapsed": true
   },
   "outputs": [],
   "source": [
    "X_train, X_test, y_train, y_test = train_test_split(X, y, train_size=0.60, stratify=y)"
   ]
  },
  {
   "cell_type": "code",
   "execution_count": null,
   "metadata": {
    "collapsed": true
   },
   "outputs": [],
   "source": [
    "with open(\"../data/pugs_vs_chihuahuas_data.pkl.gz\", \"wb\") as pickle_file:\n",
    "    pickle.dump((X_train, X_test, y_train, y_test), pickle_file)"
   ]
  },
  {
   "cell_type": "code",
   "execution_count": null,
   "metadata": {
    "collapsed": true
   },
   "outputs": [],
   "source": [
    "#Or just open pickle file here\n",
    "with open(\"../data/pugs_vs_chihuahuas_data.pkl.gz\", \"rb\") as pickle_file:\n",
    "    X_train, X_test, y_train, y_test = pickle.load(pickle_file)"
   ]
  },
  {
   "cell_type": "code",
   "execution_count": null,
   "metadata": {
    "collapsed": true
   },
   "outputs": [],
   "source": [
    "X_val, X_test, y_val, y_test = train_test_split(X_train, y_train, test_size=0.50)"
   ]
  },
  {
   "cell_type": "code",
   "execution_count": null,
   "metadata": {
    "collapsed": false
   },
   "outputs": [],
   "source": [
    "print(X_train.shape)\n",
    "print(X_val.shape)\n",
    "print(X_test.shape)"
   ]
  },
  {
   "cell_type": "code",
   "execution_count": null,
   "metadata": {
    "collapsed": true
   },
   "outputs": [],
   "source": [
    "batch_size = 32\n",
    "n_classes = 2\n",
    "n_epochs = 10"
   ]
  },
  {
   "cell_type": "code",
   "execution_count": null,
   "metadata": {
    "collapsed": false
   },
   "outputs": [],
   "source": [
    "Y_train = np_utils.to_categorical(y_train, n_classes)\n",
    "Y_val = np_utils.to_categorical(y_val, n_classes)\n",
    "Y_test = np_utils.to_categorical(y_test, n_classes)"
   ]
  },
  {
   "cell_type": "code",
   "execution_count": null,
   "metadata": {
    "collapsed": false
   },
   "outputs": [],
   "source": [
    "print(Y_train.shape)\n",
    "print(Y_val.shape)\n",
    "print(Y_test.shape)"
   ]
  },
  {
   "cell_type": "code",
   "execution_count": null,
   "metadata": {
    "collapsed": true
   },
   "outputs": [],
   "source": [
    "#This is just the vgg16 model but with the last layer changed for our program\n",
    "def Lee(weights_path=None):\n",
    "    model = Sequential()\n",
    "    model.add(ZeroPadding2D((1,1),input_shape=(IMG_CHANNELS, IMG_ROWS, IMG_COLS), trainable=False))\n",
    "    model.add(Convolution2D(64, 3, 3, activation='relu', trainable=False))\n",
    "    model.add(ZeroPadding2D((1,1), trainable=False))\n",
    "    model.add(Convolution2D(64, 3, 3, activation='relu', trainable=False))\n",
    "    model.add(MaxPooling2D((2,2), strides=(2,2), trainable=False))\n",
    "\n",
    "    model.add(ZeroPadding2D((1,1)))\n",
    "    model.add(Convolution2D(128, 3, 3, activation='relu', trainable=False))\n",
    "    model.add(ZeroPadding2D((1,1), trainable=False))\n",
    "    model.add(Convolution2D(128, 3, 3, activation='relu', trainable=False))\n",
    "    model.add(MaxPooling2D((2,2), strides=(2,2), trainable=False))\n",
    "\n",
    "    model.add(ZeroPadding2D((1,1), trainable=False))\n",
    "    model.add(Convolution2D(256, 3, 3, activation='relu', trainable=False))\n",
    "    model.add(ZeroPadding2D((1,1), trainable=False))\n",
    "    model.add(Convolution2D(256, 3, 3, activation='relu', trainable=False))\n",
    "    model.add(ZeroPadding2D((1,1), trainable=False))\n",
    "    model.add(Convolution2D(256, 3, 3, activation='relu', trainable=False))\n",
    "    model.add(MaxPooling2D((2,2), strides=(2,2), trainable=False))\n",
    "\n",
    "    model.add(ZeroPadding2D((1,1), trainable=False))\n",
    "    model.add(Convolution2D(512, 3, 3, activation='relu', trainable=False))\n",
    "    model.add(ZeroPadding2D((1,1), trainable=False))\n",
    "    model.add(Convolution2D(512, 3, 3, activation='relu', trainable=False))\n",
    "    model.add(ZeroPadding2D((1,1), trainable=False))\n",
    "    model.add(Convolution2D(512, 3, 3, activation='relu', trainable=False))\n",
    "    model.add(MaxPooling2D((2,2), strides=(2,2), trainable=False))\n",
    "\n",
    "    model.add(ZeroPadding2D((1,1), trainable=False))\n",
    "    model.add(Convolution2D(512, 3, 3, activation='relu', trainable=False))\n",
    "    model.add(ZeroPadding2D((1,1), trainable=False))\n",
    "    model.add(Convolution2D(512, 3, 3, activation='relu', trainable=False))\n",
    "    model.add(ZeroPadding2D((1,1), trainable=False))\n",
    "    model.add(Convolution2D(512, 3, 3, activation='relu', trainable=False))\n",
    "    model.add(MaxPooling2D((2,2), strides=(2,2), trainable=False))\n",
    "\n",
    "    model.add(Flatten())\n",
    "    model.add(Dense(4096, activation='relu', trainable=False))\n",
    "    model.add(Dropout(0.5))\n",
    "    model.add(Dense(4096, activation='relu', trainable=False))\n",
    "    model.add(Dropout(0.5))\n",
    "    model.add(Dense(2, activation='softmax'))\n",
    "\n",
    "    if weights_path:\n",
    "        model.load_weights(weights_path)\n",
    "\n",
    "    return model"
   ]
  },
  {
   "cell_type": "code",
   "execution_count": null,
   "metadata": {
    "collapsed": true
   },
   "outputs": [],
   "source": [
    "sgd = SGD(lr=0.0001, decay=1e-6, momentum=0.9, nesterov=True)"
   ]
  },
  {
   "cell_type": "code",
   "execution_count": null,
   "metadata": {
    "collapsed": false
   },
   "outputs": [],
   "source": [
    "#Load model from saved weights and architecture\n",
    "model_2 = Lee('chi_model_weights.h5')\n",
    "model_2.compile(optimizer=sgd, loss='categorical_crossentropy')"
   ]
  },
  {
   "cell_type": "code",
   "execution_count": null,
   "metadata": {
    "collapsed": false
   },
   "outputs": [],
   "source": [
    "#This is where you compute the model accuracy. You should get 91%.\n",
    "y_pred = model_2.predict_classes(X_test)\n",
    "accuracy = np.sum(y_pred == y_test) / float(len(y_test))\n",
    "print(accuracy)"
   ]
  },
  {
   "cell_type": "code",
   "execution_count": null,
   "metadata": {
    "collapsed": false
   },
   "outputs": [],
   "source": [
    "#Do a test\n",
    "i=3\n",
    "my_img = X_test[i].transpose()\n",
    "plt.axis('off')\n",
    "plt.imshow(my_img)\n",
    "img = np.array(my_img).transpose()\n",
    "img = img.reshape((1, 3, 224, 224))\n",
    "mypred = model_2.predict(img)\n",
    "print(mypred)"
   ]
  },
  {
   "cell_type": "code",
   "execution_count": null,
   "metadata": {
    "collapsed": false
   },
   "outputs": [],
   "source": [
    "#Testing my dog Yaffa\n",
    "YAFFA_IMG_DIR = \"../data/yaffa_cropped\"\n",
    "n_yaffa_images = len(os.listdir(YAFFA_IMG_DIR))\n",
    "yaffa_images = np.empty((n_yaffa_images, IMG_CHANNELS, IMG_ROWS, IMG_COLS), dtype=\"uint8\")\n",
    "\n",
    "for n, image in enumerate(os.listdir(YAFFA_IMG_DIR)):\n",
    "    yaffa_images[n] = io.imread(YAFFA_IMG_DIR+\"/\"+image).transpose()\n",
    "    \n",
    "print(yaffa_images.shape)    "
   ]
  },
  {
   "cell_type": "code",
   "execution_count": null,
   "metadata": {
    "collapsed": false
   },
   "outputs": [],
   "source": [
    "i=4\n",
    "my_img = yaffa_images[i].transpose()\n",
    "plt.axis('off')\n",
    "plt.imshow(my_img)\n",
    "img = np.array(my_img).transpose()\n",
    "img = img.reshape((1, 3, 224, 224))\n",
    "mypred = model_2.predict(img)\n",
    "print(mypred)"
   ]
  },
  {
   "cell_type": "code",
   "execution_count": null,
   "metadata": {
    "collapsed": false
   },
   "outputs": [],
   "source": [
    "#Testing some other random images I downloaded\n",
    "OTHER_IMG_DIR = \"../data/other_cropped\"\n",
    "n_other_images = len(os.listdir(OTHER_IMG_DIR))\n",
    "other_images = np.empty((n_other_images, IMG_CHANNELS, IMG_ROWS, IMG_COLS), dtype=\"uint8\")\n",
    "\n",
    "for n, image in enumerate(os.listdir(OTHER_IMG_DIR)):\n",
    "    other_images[n] = io.imread(OTHER_IMG_DIR+\"/\"+image).transpose()\n",
    "    \n",
    "print(other_images.shape) "
   ]
  },
  {
   "cell_type": "code",
   "execution_count": null,
   "metadata": {
    "collapsed": false
   },
   "outputs": [],
   "source": [
    "i=0\n",
    "my_img = other_images[i].transpose()\n",
    "plt.axis('off')\n",
    "plt.imshow(my_img)\n",
    "img = np.array(my_img).transpose()\n",
    "img = img.reshape((1, 3, 224, 224))\n",
    "mypred = model_2.predict(img)\n",
    "print(mypred)"
   ]
  },
  {
   "cell_type": "code",
   "execution_count": null,
   "metadata": {
    "collapsed": true
   },
   "outputs": [],
   "source": []
  }
 ],
 "metadata": {
  "kernelspec": {
   "display_name": "Python 2",
   "language": "python",
   "name": "python2"
  },
  "language_info": {
   "codemirror_mode": {
    "name": "ipython",
    "version": 2
   },
   "file_extension": ".py",
   "mimetype": "text/x-python",
   "name": "python",
   "nbconvert_exporter": "python",
   "pygments_lexer": "ipython2",
   "version": "2.7.11"
  }
 },
 "nbformat": 4,
 "nbformat_minor": 0
}
